{
 "cells": [
  {
   "cell_type": "code",
   "execution_count": 1,
   "id": "8a7d673f",
   "metadata": {},
   "outputs": [
    {
     "name": "stdout",
     "output_type": "stream",
     "text": [
      "[1 2 3 4 5]\n"
     ]
    }
   ],
   "source": [
    "import numpy as np\n",
    "\n",
    "a = np.array([1, 2, 3, 4, 5])\n",
    "print(a)"
   ]
  },
  {
   "cell_type": "markdown",
   "id": "41c74e80",
   "metadata": {},
   "source": [
    "Finding the product through loop"
   ]
  },
  {
   "cell_type": "code",
   "execution_count": 7,
   "id": "18b20579",
   "metadata": {},
   "outputs": [
    {
     "name": "stdout",
     "output_type": "stream",
     "text": [
      "Finding the product through loop:\n",
      "Time Taken:59.426069259643555ms\n"
     ]
    }
   ],
   "source": [
    "import time\n",
    "\n",
    "a = np.random.rand(100000)\n",
    "b = np.random.rand(100000)\n",
    "\n",
    "tic = time.time()\n",
    "c = 0\n",
    "\n",
    "for i in range(100000):\n",
    "    c += a[i]*b[i]\n",
    "toc = time.time()\n",
    "\n",
    "print(\"Time Taken:\" + str(1000*(toc-tic)) + \"ms\")"
   ]
  },
  {
   "cell_type": "markdown",
   "id": "60424e80",
   "metadata": {},
   "source": [
    "Now using Vectorization"
   ]
  },
  {
   "cell_type": "code",
   "execution_count": 10,
   "id": "d58b7c85",
   "metadata": {},
   "outputs": [
    {
     "name": "stdout",
     "output_type": "stream",
     "text": [
      "Time Taken:10.816812515258789ms\n"
     ]
    }
   ],
   "source": [
    "tic1 = time.time()\n",
    "c = np.dot(a, b)\n",
    "toc1 = time.time()\n",
    "print(\"Time Taken:\" + str(1000*(toc1-tic1)) + \"ms\")"
   ]
  },
  {
   "cell_type": "markdown",
   "id": "41dfe19b",
   "metadata": {},
   "source": [
    "This proves that by Vectorization we can write a more efficient code!"
   ]
  },
  {
   "cell_type": "code",
   "execution_count": null,
   "id": "abb8c2ce",
   "metadata": {},
   "outputs": [],
   "source": []
  }
 ],
 "metadata": {
  "kernelspec": {
   "display_name": "Python 3 (ipykernel)",
   "language": "python",
   "name": "python3"
  },
  "language_info": {
   "codemirror_mode": {
    "name": "ipython",
    "version": 3
   },
   "file_extension": ".py",
   "mimetype": "text/x-python",
   "name": "python",
   "nbconvert_exporter": "python",
   "pygments_lexer": "ipython3",
   "version": "3.7.3"
  }
 },
 "nbformat": 4,
 "nbformat_minor": 5
}
